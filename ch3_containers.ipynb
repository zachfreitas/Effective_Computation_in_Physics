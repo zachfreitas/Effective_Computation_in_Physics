{
 "cells": [
  {
   "cell_type": "markdown",
   "id": "25fa4b0e",
   "metadata": {},
   "source": [
    "# Chapter 3. Essential Containers"
   ]
  },
  {
   "cell_type": "markdown",
   "id": "8822cff3",
   "metadata": {},
   "source": [
    "## Lists"
   ]
  },
  {
   "cell_type": "code",
   "execution_count": 1,
   "id": "2aab2f67",
   "metadata": {},
   "outputs": [
    {
     "data": {
      "text/plain": [
       "[[1.0, 0.0], [0.0, 1.0]]"
      ]
     },
     "execution_count": 1,
     "metadata": {},
     "output_type": "execute_result"
    }
   ],
   "source": [
    "# List examples \n",
    "[6, 28]\n",
    "[1e3, -2, \"I am in a list.\"]\n",
    "[[1.0, 0.0], [0.0, 1.0]]\n"
   ]
  },
  {
   "cell_type": "code",
   "execution_count": 10,
   "id": "78965ddc",
   "metadata": {},
   "outputs": [
    {
     "data": {
      "text/plain": [
       "[1, 1, 2, 3, 5, 8]"
      ]
     },
     "execution_count": 10,
     "metadata": {},
     "output_type": "execute_result"
    }
   ],
   "source": [
    "# Combining lists\n",
    "[1, 1] + [2, 3, 5] + [8] # combining lists\n"
   ]
  },
  {
   "cell_type": "code",
   "execution_count": 3,
   "id": "011f04e7",
   "metadata": {},
   "outputs": [
    {
     "data": {
      "text/plain": [
       "[1, 1, 2, 3, 5, 8, 13]"
      ]
     },
     "execution_count": 3,
     "metadata": {},
     "output_type": "execute_result"
    }
   ],
   "source": [
    "fib = [1, 1, 2, 3, 5, 8]\n",
    "fib.append(13)\n",
    "fib "
   ]
  },
  {
   "cell_type": "code",
   "execution_count": 11,
   "id": "714a96ca",
   "metadata": {},
   "outputs": [
    {
     "data": {
      "text/plain": [
       "[8, -1, 21, -1, 55, -1, 144, 21, 34, 55]"
      ]
     },
     "execution_count": 11,
     "metadata": {},
     "output_type": "execute_result"
    }
   ],
   "source": [
    "fib.extend([21, 34, 55]) #extending list\n",
    "fib"
   ]
  },
  {
   "cell_type": "code",
   "execution_count": 12,
   "id": "594226c1",
   "metadata": {},
   "outputs": [
    {
     "data": {
      "text/plain": [
       "[8, -1, 21, -1, 55, -1, 144, 21, 34, 55, 89, 144]"
      ]
     },
     "execution_count": 12,
     "metadata": {},
     "output_type": "execute_result"
    }
   ],
   "source": [
    "fib += [89, 144] # append another list or extend\n",
    "fib"
   ]
  },
  {
   "cell_type": "code",
   "execution_count": 6,
   "id": "4be6d058",
   "metadata": {},
   "outputs": [
    {
     "data": {
      "text/plain": [
       "[1, 1, 2, 3, 5, 8, 13, 21, 34, 55, 89, 144]"
      ]
     },
     "execution_count": 6,
     "metadata": {},
     "output_type": "execute_result"
    }
   ],
   "source": [
    "# Indexing lists\n",
    "fib[::2] # every second element\n",
    "fib "
   ]
  },
  {
   "cell_type": "code",
   "execution_count": 7,
   "id": "3e860713",
   "metadata": {},
   "outputs": [
    {
     "data": {
      "text/plain": [
       "[1, 1, 2, 'whoops', 5, 8, 13, 21, 34, 55, 89, 144]"
      ]
     },
     "execution_count": 7,
     "metadata": {},
     "output_type": "execute_result"
    }
   ],
   "source": [
    "fib[3] = \"whoops\" # change the 4th element\n",
    "fib"
   ]
  },
  {
   "cell_type": "code",
   "execution_count": 8,
   "id": "ea5d055c",
   "metadata": {},
   "outputs": [
    {
     "data": {
      "text/plain": [
       "[8, 13, 21, 34, 55, 89, 144]"
      ]
     },
     "execution_count": 8,
     "metadata": {},
     "output_type": "execute_result"
    }
   ],
   "source": [
    "del fib[:5] # delete the first five elements\n",
    "fib"
   ]
  },
  {
   "cell_type": "code",
   "execution_count": 9,
   "id": "d9b774ab",
   "metadata": {},
   "outputs": [
    {
     "data": {
      "text/plain": [
       "[8, -1, 21, -1, 55, -1, 144]"
      ]
     },
     "execution_count": 9,
     "metadata": {},
     "output_type": "execute_result"
    }
   ],
   "source": [
    "fib[1::2] = [-1, -1, -1] # change every second element starting from the second\n",
    "fib"
   ]
  },
  {
   "cell_type": "code",
   "execution_count": null,
   "id": "2f5f519d",
   "metadata": {},
   "outputs": [],
   "source": [
    "[1, 2, 3] * 6 # repeat a list 6 times\n",
    "lib"
   ]
  },
  {
   "cell_type": "code",
   "execution_count": 14,
   "id": "85a6a6b9",
   "metadata": {},
   "outputs": [
    {
     "data": {
      "text/plain": [
       "['F', ' ', '=', ' ', 'd', 'p', '/', 'd', 't']"
      ]
     },
     "execution_count": 14,
     "metadata": {},
     "output_type": "execute_result"
    }
   ],
   "source": [
    "list(\"F = dp/dt\") # convert a string to a list of characters"
   ]
  },
  {
   "cell_type": "code",
   "execution_count": 20,
   "id": "412f108d",
   "metadata": {},
   "outputs": [
    {
     "name": "stdout",
     "output_type": "stream",
     "text": [
      "[3, 'TWO', 1, 'blast off!']\n"
     ]
    }
   ],
   "source": [
    "# List references are not copies\n",
    "x = [3, 2, 1, \"blast off!\"]\n",
    "y = x\n",
    "y[1] = \"TWO\"\n",
    "print(x)"
   ]
  },
  {
   "cell_type": "code",
   "execution_count": null,
   "id": "52d3ed4c",
   "metadata": {},
   "outputs": [
    {
     "name": "stdout",
     "output_type": "stream",
     "text": [
      "[3, 2, 1, 'blast off!']\n"
     ]
    }
   ],
   "source": [
    "# Creating a copy of a list\n",
    "# To create a copy of a list, use the copy method or slicing\n",
    "x = [3, 2, 1, \"blast off!\"]\n",
    "y = x.copy()\n",
    "y[1] = \"TWO\"\n",
    "print(x)"
   ]
  },
  {
   "cell_type": "code",
   "execution_count": 23,
   "id": "e00947f6",
   "metadata": {},
   "outputs": [],
   "source": [
    "# To create a deep copy of a list (for nested lists), use the copy module\n",
    "import copy\n",
    "original_list = [[1, 2], [3, 4]]\n",
    "copied_list = copy.deepcopy(original_list)"
   ]
  },
  {
   "cell_type": "markdown",
   "id": "90fd77ef",
   "metadata": {},
   "source": [
    "## Tuples"
   ]
  },
  {
   "cell_type": "code",
   "execution_count": 25,
   "id": "36f4a99b",
   "metadata": {},
   "outputs": [],
   "source": [
    "a = 1, 2, 5, 3  # length-4 tuple\n",
    "b = (42,)       # length-1 tuple, defined by comma\n",
    "c = (42)        # not a tuple, just the number 42\n",
    "d = ()          # length-0 tuple- no commas means no elements"
   ]
  },
  {
   "cell_type": "code",
   "execution_count": 26,
   "id": "5b8c4ff3",
   "metadata": {},
   "outputs": [
    {
     "name": "stdout",
     "output_type": "stream",
     "text": [
      "<class 'tuple'>\n",
      "<class 'tuple'>\n",
      "<class 'int'>\n",
      "<class 'tuple'>\n"
     ]
    }
   ],
   "source": [
    "print(type(a))  # <class 'tuple'>\n",
    "print(type(b))  # <class 'tuple'>       \n",
    "print(type(c))  # <class 'int'>          # not a tuple\n",
    "print(type(d))  # <class 'tuple'>        # empty tuple  \n"
   ]
  },
  {
   "cell_type": "code",
   "execution_count": null,
   "id": "33a22dd3",
   "metadata": {},
   "outputs": [
    {
     "name": "stdout",
     "output_type": "stream",
     "text": [
      "(1, 2, 3, 4)\n",
      "1 5 4\n"
     ]
    }
   ],
   "source": [
    "#Tuple operations\n",
    "print((1, 2) + (3, 4)) # concatenation of tuples    \n",
    "print((1, 2 + 3, 4)) # tuple with an expression\n",
    "print((1, 2) * 3)       # repetition of tuples\n",
    "print((1, 2, 3)[:2])    # slicing a tuple\n",
    "\n"
   ]
  },
  {
   "cell_type": "code",
   "execution_count": 29,
   "id": "33e37fc7",
   "metadata": {},
   "outputs": [
    {
     "name": "stdout",
     "output_type": "stream",
     "text": [
      "('e', 2.718)\n",
      "('h', 'e', 'l', 'l', 'o')\n"
     ]
    }
   ],
   "source": [
    "# tuple Conversion\n",
    "print(tuple([\"e\", 2.718]))  # convert a list to a tuple\n",
    "print(tuple(\"hello\"))     # convert a string to a tuple of characters"
   ]
  },
  {
   "cell_type": "code",
   "execution_count": 31,
   "id": "5a6a6625",
   "metadata": {},
   "outputs": [
    {
     "data": {
      "text/plain": [
       "(1.0, [2, 4, 8], 16)"
      ]
     },
     "execution_count": 31,
     "metadata": {},
     "output_type": "execute_result"
    }
   ],
   "source": [
    "# Nested lists and tuples\n",
    "# Lists can contain other lists or tuples, and tuples can contain lists or other tuples.\n",
    "x = 1.0, [2, 4], 16\n",
    "x[1].append(8) # append to the inner list because it is mutable even though the outer tuple is immutable.\n",
    "x"
   ]
  },
  {
   "cell_type": "markdown",
   "id": "b0bcc1bf",
   "metadata": {},
   "source": [
    "## Sets"
   ]
  },
  {
   "cell_type": "code",
   "execution_count": 32,
   "id": "cae56691",
   "metadata": {},
   "outputs": [
    {
     "data": {
      "text/plain": [
       "{(16,), 2.0, 4, 'eight'}"
      ]
     },
     "execution_count": 32,
     "metadata": {},
     "output_type": "execute_result"
    }
   ],
   "source": [
    "# a literal set formed with elements of various types\n",
    "{1.0, 10, \"one hundred\", (1, 0, 0,0)}\n",
    "\n",
    "# a literal set of special values\n",
    "{True, False, None, \"\", 0.0, 0}\n",
    "\n",
    "# conversion from a list to a set\n",
    "set([2.0, 4, \"eight\", (16,)])"
   ]
  },
  {
   "cell_type": "code",
   "execution_count": 35,
   "id": "2c7f85d7",
   "metadata": {},
   "outputs": [
    {
     "name": "stdout",
     "output_type": "stream",
     "text": [
      "{'C', 'u', 'i', ' ', 'e', 'M', 'a', 'r'}\n",
      "{'Marie Curie'}\n"
     ]
    }
   ],
   "source": [
    "print(set(\"Marie Curie\")) # convert a string to a set of characters\n",
    "print(set([\"Marie Curie\"])) # convert a list to a set of strings"
   ]
  },
  {
   "cell_type": "code",
   "execution_count": 37,
   "id": "b6711dea",
   "metadata": {},
   "outputs": [
    {
     "name": "stdout",
     "output_type": "stream",
     "text": [
      "{1, 2, 3, 4, 5}\n",
      "{3}\n",
      "{1, 2}\n",
      "{1, 2, 4, 5}\n",
      "False\n",
      "False\n",
      "False\n",
      "False\n"
     ]
    }
   ],
   "source": [
    "# set operations\n",
    "s = {1, 2, 3} \n",
    "t = {3, 4, 5}\n",
    "\n",
    "print(s | t)  # union of sets\n",
    "print(s & t)  # intersection of sets\n",
    "print(s - t)  # difference of sets\n",
    "print(s ^ t)  # symmetric difference of sets\n",
    "print(s < t)  # Strict subset check \n",
    "print(s <= t)  # subset check \n",
    "print(s > t)  # Strict superset check\n",
    "print(s >= t)  # superset check"
   ]
  },
  {
   "cell_type": "code",
   "execution_count": 41,
   "id": "70ea0b48",
   "metadata": {},
   "outputs": [
    {
     "name": "stdout",
     "output_type": "stream",
     "text": [
      "{1, 2, 3}\n",
      "{1, 2, 3, 4}\n",
      "{2, 3, 4}\n",
      "{3, 4}\n"
     ]
    }
   ],
   "source": [
    "s = {1, 2, 3} \n",
    "print(s)\n",
    "# Adding and removing elements from a set\n",
    "s.add(4)  # add an element  \n",
    "print(s)\n",
    "s.remove(1)  # remove an element\n",
    "print(s)\n",
    "s.discard(2)  # discard an element (no error if not present)\n",
    "print(s)"
   ]
  },
  {
   "cell_type": "code",
   "execution_count": null,
   "id": "4f518e72",
   "metadata": {},
   "outputs": [],
   "source": [
    "# Sets are related to hashes\n",
    "# A set is a hash table with no duplicate keys.\n",
    "# hash(x) == hash(y) implies that x == y\n",
    "# hash(\"\") == hash(0.0) == 0 does not imply that \"\" == 0.0\n",
    "\n",
    "Scopatz, Anthony; Huff, Kathryn D.. Effective Computation in Physics: Field Guide to Research with Python (p. 131). O'Reilly Media. Kindle Edition. \n",
    "\n",
    "Scopatz, Anthony; Huff, Kathryn D.. Effective Computation in Physics: Field Guide to Research with Python (p. 131). O'Reilly Media. Kindle Edition. "
   ]
  },
  {
   "cell_type": "markdown",
   "id": "a938212c",
   "metadata": {},
   "source": [
    "## Dictionaries"
   ]
  },
  {
   "cell_type": "code",
   "execution_count": 42,
   "id": "ec83119f",
   "metadata": {},
   "outputs": [],
   "source": [
    "# A dictionary on one line that stores info about Einstein\n",
    "al = {\"first\": \"Albert\", \"last\": \"Einstein\", \"birthday\": [1879, 3, 14]}\n",
    "\n",
    "# You can split up dicts onto many lines\n",
    "constants = {\n",
    "    'pi': 3.14159,\n",
    "    \"e\": 2.718,\n",
    "    \"h\": 6.62606957e-34,\n",
    "    True: 1.0,\n",
    "    }\n",
    "\n",
    "# A dict being formed from a list of (key, value) tuples\n",
    "axes = dict([(1, \"x\"), (2, \"y\"), (3, \"z\")])\n"
   ]
  },
  {
   "cell_type": "code",
   "execution_count": 49,
   "id": "ce245b98",
   "metadata": {},
   "outputs": [
    {
     "name": "stdout",
     "output_type": "stream",
     "text": [
      "[1879, 3, 14]\n",
      "1879\n",
      "2.718\n",
      "z\n"
     ]
    }
   ],
   "source": [
    "print(al['birthday'])\n",
    "print(al['birthday'][0])\n",
    "print(constants['e'])\n",
    "print(axes[3])"
   ]
  },
  {
   "cell_type": "code",
   "execution_count": 52,
   "id": "c83ba509",
   "metadata": {},
   "outputs": [
    {
     "name": "stdout",
     "output_type": "stream",
     "text": [
      "{1: 'x', 2: 'y', 3: 'z'}\n",
      "{1: 'r', 2: 'phi', 3: 'theta'}\n"
     ]
    }
   ],
   "source": [
    "# Dictionary update process\n",
    "# A dict being formed from a list of (key, value) tuples\n",
    "axes = dict([(1, \"x\"), (2, \"y\"), (3, \"z\")])\n",
    "print(axes)\n",
    "axes.update({1: 'r', 2: 'phi', 3: 'theta'})\n",
    "print(axes)"
   ]
  },
  {
   "cell_type": "code",
   "execution_count": null,
   "id": "3a967848",
   "metadata": {},
   "outputs": [],
   "source": []
  }
 ],
 "metadata": {
  "kernelspec": {
   "display_name": "Python 3",
   "language": "python",
   "name": "python3"
  },
  "language_info": {
   "codemirror_mode": {
    "name": "ipython",
    "version": 3
   },
   "file_extension": ".py",
   "mimetype": "text/x-python",
   "name": "python",
   "nbconvert_exporter": "python",
   "pygments_lexer": "ipython3",
   "version": "3.11.9"
  }
 },
 "nbformat": 4,
 "nbformat_minor": 5
}
