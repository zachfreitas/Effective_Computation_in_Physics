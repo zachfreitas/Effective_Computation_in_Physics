{
 "cells": [
  {
   "cell_type": "markdown",
   "id": "50113b07",
   "metadata": {},
   "source": [
    "# Operating with Functions"
   ]
  },
  {
   "cell_type": "markdown",
   "id": "0bb0fd68",
   "metadata": {},
   "source": []
  },
  {
   "cell_type": "code",
   "execution_count": 17,
   "id": "c25d189c",
   "metadata": {},
   "outputs": [
    {
     "name": "stdout",
     "output_type": "stream",
     "text": [
      "42\n",
      "0\n"
     ]
    }
   ],
   "source": [
    "def forty_two_or_bust(x):\n",
    "    if x:\n",
    "        print(42)\n",
    "    else:\n",
    "        print(0)\n",
    "\n",
    "# call the function\n",
    "forty_two_or_bust(True)\n",
    "\n",
    "bust = False\n",
    "forty_two_or_bust(bust)\n"
   ]
  },
  {
   "cell_type": "code",
   "execution_count": 18,
   "id": "890cf241",
   "metadata": {},
   "outputs": [
    {
     "data": {
      "text/plain": [
       "8"
      ]
     },
     "execution_count": 18,
     "metadata": {},
     "output_type": "execute_result"
    }
   ],
   "source": [
    "def power(base, x):\n",
    "    \"\"\" Calculate base raised to the power of x.\n",
    "    :param base: The base number to be raised.\n",
    "    :param x: The exponent to raise the base to.\"\"\"\n",
    "    return base**x\n",
    "\n",
    "power(2, 3)"
   ]
  },
  {
   "cell_type": "code",
   "execution_count": 19,
   "id": "069d9e8a",
   "metadata": {},
   "outputs": [
    {
     "data": {
      "text/plain": [
       "0.8414709848078965"
      ]
     },
     "execution_count": 19,
     "metadata": {},
     "output_type": "execute_result"
    }
   ],
   "source": [
    "from math import sin\n",
    "\n",
    "def sin_inv_x(x):\n",
    "    if x == 0.0:\n",
    "        result = 0.0\n",
    "    else:\n",
    "        result = sin(1.0/x)\n",
    "    return result\n",
    "\n",
    "sin_inv_x(1)"
   ]
  },
  {
   "cell_type": "markdown",
   "id": "064e4a93",
   "metadata": {},
   "source": [
    "## Keyword Arguments"
   ]
  },
  {
   "cell_type": "code",
   "execution_count": 20,
   "id": "fb094e66",
   "metadata": {},
   "outputs": [
    {
     "name": "stdout",
     "output_type": "stream",
     "text": [
      "42.0\n",
      "84.0\n",
      "52.0\n",
      "94\n",
      "94\n"
     ]
    }
   ],
   "source": [
    "def line(x, a=1.0, b=0.0):\n",
    "    return a*x + b\n",
    "\n",
    "\n",
    "print(line(42))            # no keyword args, returns 1*42 + 0\n",
    "print(line(42, 2))         # a=2, returns 84\n",
    "print(line(42, b=10))      # b=10, returns 52\n",
    "print(line(42, b=10, a=2)) # returns 94\n",
    "print(line(42, a=2, b=10)) # also returns 94"
   ]
  },
  {
   "cell_type": "code",
   "execution_count": 21,
   "id": "7d1ca66f",
   "metadata": {},
   "outputs": [
    {
     "data": {
      "text/plain": [
       "1"
      ]
     },
     "execution_count": 21,
     "metadata": {},
     "output_type": "execute_result"
    }
   ],
   "source": [
    "# A function that takes any number of arguments\n",
    "# and returns the minimum value among them\n",
    "def minimum(*args):\n",
    "    \"\"\"Takes any number of arguments!\"\"\"\n",
    "    m = args[0]\n",
    "    for x in args[1:]:\n",
    "        if x < m:\n",
    "          m = x\n",
    "    return m\n",
    "\n",
    "minimum(3, 1, 4, 1, 5, 9, 2, 6, 5, 3, 5) # returns 1"
   ]
  },
  {
   "cell_type": "code",
   "execution_count": 22,
   "id": "f932c926",
   "metadata": {},
   "outputs": [
    {
     "data": {
      "text/plain": [
       "2"
      ]
     },
     "execution_count": 22,
     "metadata": {},
     "output_type": "execute_result"
    }
   ],
   "source": [
    "data = [65, 42, 2, 8]\n",
    "minimum(*data)\n"
   ]
  },
  {
   "cell_type": "code",
   "execution_count": 23,
   "id": "4da24384",
   "metadata": {},
   "outputs": [
    {
     "data": {
      "text/plain": [
       "(3, 1, 4, 1, 5, 9, 2, 6, 5, 3, 5)"
      ]
     },
     "execution_count": 23,
     "metadata": {},
     "output_type": "execute_result"
    }
   ],
   "source": [
    "# This function returns a tuple of all its arguments.\n",
    "def minimum(*args):\n",
    "    return args\n",
    "\n",
    "minimum(3, 1, 4, 1, 5, 9, 2, 6, 5, 3, 5) # returns 1"
   ]
  },
  {
   "cell_type": "code",
   "execution_count": 24,
   "id": "9d316233",
   "metadata": {},
   "outputs": [
    {
     "name": "stdout",
     "output_type": "stream",
     "text": [
      "Positional arguments (args): (1, 2, 3)\n",
      "Keyword arguments (kwargs): {'name': 'Alice', 'age': 30}\n"
     ]
    }
   ],
   "source": [
    "def my_function(*args, **kwargs):\n",
    "    print(\"Positional arguments (args):\", args)\n",
    "    print(\"Keyword arguments (kwargs):\", kwargs)\n",
    "\n",
    "my_function(1, 2, 3, name=\"Alice\", age=30)"
   ]
  },
  {
   "cell_type": "code",
   "execution_count": 25,
   "id": "e1868813",
   "metadata": {},
   "outputs": [
    {
     "name": "stdout",
     "output_type": "stream",
     "text": [
      "(2730.0, 88725.0)\n",
      "2730.0\n"
     ]
    }
   ],
   "source": [
    "# Multiple return values\n",
    "def momentum_energy(m, v):\n",
    "    p = m * v\n",
    "    e = 0.5 * m * v**2\n",
    "    return p, e\n",
    "\n",
    "# returns a tuple\n",
    "p_e = momentum_energy(42.0, 65.0)\n",
    "print(p_e)\n",
    "\n",
    "# unpacks the tuple\n",
    "mom, eng = momentum_energy(42.0, 65.0)\n",
    "print(mom)\n"
   ]
  },
  {
   "cell_type": "code",
   "execution_count": 26,
   "id": "0932da09",
   "metadata": {},
   "outputs": [
    {
     "name": "stdout",
     "output_type": "stream",
     "text": [
      "232\n"
     ]
    }
   ],
   "source": [
    "# Scope of variables\n",
    "# global scope\n",
    "a = 6\n",
    "b = 42\n",
    "\n",
    "def func(x, y):\n",
    "    # local scope\n",
    "    z = 16\n",
    "    return a*x + b*y + z\n",
    "\n",
    "# global scope\n",
    "c = func(1, 5)\n",
    "print(c)  # prints 232"
   ]
  },
  {
   "cell_type": "code",
   "execution_count": 27,
   "id": "e30b75bd",
   "metadata": {},
   "outputs": [
    {
     "name": "stdout",
     "output_type": "stream",
     "text": [
      "1380\n"
     ]
    }
   ],
   "source": [
    "# global scope\n",
    "a = 6\n",
    "b = 42\n",
    "\n",
    "def outer(m, n):\n",
    "    # outer's scope\n",
    "    p = 10\n",
    "    \n",
    "    def inner(x, y):\n",
    "            # inner's scope\n",
    "            return a*p*x + b*n*y\n",
    "\n",
    "    # outer's scope\n",
    "    return inner(m+1, n+1)\n",
    "\n",
    "# global scope\n",
    "c = outer(1, 5)\n",
    "print(c)  # prints 1380"
   ]
  },
  {
   "cell_type": "markdown",
   "id": "e140325c",
   "metadata": {},
   "source": [
    "## Recursion"
   ]
  },
  {
   "cell_type": "code",
   "execution_count": 28,
   "id": "6e2c5b51",
   "metadata": {},
   "outputs": [
    {
     "name": "stdout",
     "output_type": "stream",
     "text": [
      "8128\n",
      "8128\n"
     ]
    }
   ],
   "source": [
    "import sys\n",
    "print(sys.getrecursionlimit())      # return the current limit\n",
    "sys.setrecursionlimit(8128)  # change the limit to 8128\n",
    "print(sys.getrecursionlimit())"
   ]
  },
  {
   "cell_type": "code",
   "execution_count": 29,
   "id": "4140ea94",
   "metadata": {},
   "outputs": [
    {
     "data": {
      "text/plain": [
       "144"
      ]
     },
     "execution_count": 29,
     "metadata": {},
     "output_type": "execute_result"
    }
   ],
   "source": [
    "def fib(n):\n",
    "    if n == 0 or n == 1:\n",
    "        return n\n",
    "    else:\n",
    "        return fib(n - 1) + fib(n - 2)\n",
    "\n",
    "fib(12)  # returns 5"
   ]
  },
  {
   "cell_type": "markdown",
   "id": "2c7c084d",
   "metadata": {},
   "source": [
    "## Lambdas"
   ]
  },
  {
   "cell_type": "code",
   "execution_count": 30,
   "id": "45d8fe54",
   "metadata": {},
   "outputs": [],
   "source": [
    "# a simple lambda\n",
    "lambda x: x**2\n",
    "\n",
    "# a lambda that is called after it is defined\n",
    "(lambda x, y=10: 2*x + y)(42)\n",
    "\n",
    "# just because it is anonymous doesn't mean we can't give it a name!\n",
    "f = lambda: [x**2 for x in range(10)]\n",
    "f()\n",
    "\n",
    "# a lambda as a dict value\n",
    "d = {'null': lambda *args, **kwargs: None}\n",
    "\n",
    "# a lambda as a keyword argument f in another function\n",
    "def func(vals, f=lambda x: sum(x)/len(x)):\n",
    "    f(vals)\n",
    "\n",
    "# a lambda as a keyword argument in a function call\n",
    "func([6, 28, 496, 8128], lambda data: sum([x**2 for x in data]))\n",
    "\n"
   ]
  },
  {
   "cell_type": "code",
   "execution_count": 31,
   "id": "65bb431b",
   "metadata": {},
   "outputs": [
    {
     "name": "stdout",
     "output_type": "stream",
     "text": [
      "[8128, 6, 496, 28]\n",
      "[6, 28, 496, 8128]\n"
     ]
    },
    {
     "data": {
      "text/plain": [
       "[496, 28, 8128, 6]"
      ]
     },
     "execution_count": 31,
     "metadata": {},
     "output_type": "execute_result"
    }
   ],
   "source": [
    "nums = [8128, 6, 496, 28]\n",
    "print(nums)\n",
    "print(sorted(nums))\n",
    "\n",
    "sorted(nums, key=lambda x: x%13)"
   ]
  },
  {
   "cell_type": "markdown",
   "id": "430ae039",
   "metadata": {},
   "source": [
    "## Generators"
   ]
  },
  {
   "cell_type": "code",
   "execution_count": 32,
   "id": "66d7a5d1",
   "metadata": {},
   "outputs": [
    {
     "name": "stdout",
     "output_type": "stream",
     "text": [
      "2\n",
      "Blast off!\n"
     ]
    },
    {
     "ename": "StopIteration",
     "evalue": "",
     "output_type": "error",
     "traceback": [
      "\u001b[1;31m---------------------------------------------------------------------------\u001b[0m",
      "\u001b[1;31mStopIteration\u001b[0m                             Traceback (most recent call last)",
      "Cell \u001b[1;32mIn[32], line 16\u001b[0m\n\u001b[0;32m     14\u001b[0m y, z \u001b[38;5;241m=\u001b[39m \u001b[38;5;28mnext\u001b[39m(g), \u001b[38;5;28mnext\u001b[39m(g)\n\u001b[0;32m     15\u001b[0m \u001b[38;5;28mprint\u001b[39m(z)\n\u001b[1;32m---> 16\u001b[0m \u001b[38;5;28;43mnext\u001b[39;49m\u001b[43m(\u001b[49m\u001b[43mg\u001b[49m\u001b[43m)\u001b[49m\n",
      "\u001b[1;31mStopIteration\u001b[0m: "
     ]
    }
   ],
   "source": [
    "def countdown():\n",
    "    yield 3\n",
    "    yield 2\n",
    "    yield 1\n",
    "    yield 'Blast off!'\n",
    "\n",
    "\n",
    "# generator\n",
    "g = countdown()\n",
    "\n",
    "next(g)\n",
    "x = next(g)\n",
    "print(x)\n",
    "y, z = next(g), next(g)\n",
    "print(z)\n",
    "next(g)"
   ]
  },
  {
   "cell_type": "markdown",
   "id": "f1f18937",
   "metadata": {},
   "source": [
    "## Decorators"
   ]
  },
  {
   "cell_type": "code",
   "execution_count": 33,
   "id": "1d1674e8",
   "metadata": {},
   "outputs": [],
   "source": [
    "def null(f):\n",
    "    \"\"\"Always return None.\"\"\"\n",
    "    return\n",
    "\n",
    "def identity(f):\n",
    "    \"\"\"Return the function.\"\"\"\n",
    "    return f\n",
    "\n",
    "def self_referential(f):\n",
    "    \"\"\"Return the decorator.\"\"\"\n",
    "    return self_referential"
   ]
  },
  {
   "cell_type": "code",
   "execution_count": 34,
   "id": "c56d4043",
   "metadata": {},
   "outputs": [
    {
     "name": "stdout",
     "output_type": "stream",
     "text": [
      "17\n",
      "5.0\n",
      "2.0\n"
     ]
    }
   ],
   "source": [
    "def plus1(f): \n",
    "    def wrapper(*args, **kwargs): \n",
    "        return f(*args, **kwargs) + 1 \n",
    "    return wrapper\n",
    "\n",
    "\n",
    "@plus1\n",
    "def power(base, x):\n",
    "    return base**x\n",
    "\n",
    "print(power(4, 2))\n",
    "\n",
    "@plus1\n",
    "@identity\n",
    "@plus1\n",
    "@plus1\n",
    "def root(x):\n",
    "    return x**0.5\n",
    "\n",
    "print(root(4))\n",
    "\n",
    "\n",
    "def real_root(x):\n",
    "    return x**0.5\n",
    "\n",
    "print(real_root(4))\n"
   ]
  },
  {
   "cell_type": "code",
   "execution_count": 35,
   "id": "a5f6db6b",
   "metadata": {},
   "outputs": [
    {
     "data": {
      "text/plain": [
       "8.0"
      ]
     },
     "execution_count": 35,
     "metadata": {},
     "output_type": "execute_result"
    }
   ],
   "source": [
    "# Plus n Decorator Factory\n",
    "# This factory creates a decorator that adds n to the result of the decorated function.\n",
    "# This is the most general form of a decorator factory. No further decorators or functions are needed.\n",
    "def plus_n(n): \n",
    "    def dec(f): \n",
    "        def wrapper(*args, **kwargs): \n",
    "            return f(*args, **kwargs) + n \n",
    "        return wrapper \n",
    "    return dec\n",
    "\n",
    "# Decorator usage example\n",
    "@plus_n(6)\n",
    "def root(x):\n",
    "    return x**0.5\n",
    "\n",
    "root(4)"
   ]
  },
  {
   "cell_type": "code",
   "execution_count": 36,
   "id": "7032d01d",
   "metadata": {},
   "outputs": [
    {
     "data": {
      "text/plain": [
       "4"
      ]
     },
     "execution_count": 36,
     "metadata": {},
     "output_type": "execute_result"
    }
   ],
   "source": [
    "# Decorator that modifies other peoples functions\n",
    "max = plus1(max)\n",
    "max(1, 2, 3)  # returns 4"
   ]
  }
 ],
 "metadata": {
  "kernelspec": {
   "display_name": "Python 3",
   "language": "python",
   "name": "python3"
  },
  "language_info": {
   "codemirror_mode": {
    "name": "ipython",
    "version": 3
   },
   "file_extension": ".py",
   "mimetype": "text/x-python",
   "name": "python",
   "nbconvert_exporter": "python",
   "pygments_lexer": "ipython3",
   "version": "3.11.9"
  }
 },
 "nbformat": 4,
 "nbformat_minor": 5
}
