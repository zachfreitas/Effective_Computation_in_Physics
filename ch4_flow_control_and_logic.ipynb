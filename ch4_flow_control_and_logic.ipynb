{
 "cells": [
  {
   "cell_type": "markdown",
   "id": "52181adf",
   "metadata": {},
   "source": [
    "# Chapter 4. Flow Control and Logic"
   ]
  },
  {
   "cell_type": "markdown",
   "id": "0934d362",
   "metadata": {},
   "source": [
    "## Conditionals"
   ]
  },
  {
   "cell_type": "code",
   "execution_count": null,
   "id": "5716f582",
   "metadata": {},
   "outputs": [
    {
     "name": "stdout",
     "output_type": "stream",
     "text": [
      "False\n"
     ]
    }
   ],
   "source": [
    "# Unary Operators\n",
    "# Negation and Logical NOT\n",
    "x = False\n",
    "if not x:\n",
    "    print(\"x is False\")"
   ]
  },
  {
   "cell_type": "code",
   "execution_count": 8,
   "id": "84704a07",
   "metadata": {},
   "outputs": [
    {
     "name": "stdout",
     "output_type": "stream",
     "text": [
      "-1\n",
      "-2\n"
     ]
    }
   ],
   "source": [
    "# Bitwise NOT\n",
    "x = 0\n",
    "print(~x)\n",
    "x = 1\n",
    "print(~x)"
   ]
  },
  {
   "cell_type": "code",
   "execution_count": 10,
   "id": "38824da1",
   "metadata": {},
   "outputs": [
    {
     "name": "stdout",
     "output_type": "stream",
     "text": [
      "h-bar isn't really unity! Resetting...\n"
     ]
    }
   ],
   "source": [
    "h_bar = 1.0\n",
    "if h_bar == 1.0:\n",
    "    print(\"h-bar isn't really unity! Resetting...\")\n",
    "    h_bar = 1.05457173e-34 "
   ]
  },
  {
   "cell_type": "code",
   "execution_count": 16,
   "id": "1e433edd",
   "metadata": {},
   "outputs": [
    {
     "ename": "ZeroDivisionError",
     "evalue": "Division by zero is not allowed",
     "output_type": "error",
     "traceback": [
      "\u001b[1;31m---------------------------------------------------------------------------\u001b[0m",
      "\u001b[1;31mZeroDivisionError\u001b[0m                         Traceback (most recent call last)",
      "Cell \u001b[1;32mIn[16], line 3\u001b[0m\n\u001b[0;32m      1\u001b[0m val \u001b[38;5;241m=\u001b[39m \u001b[38;5;241m0.0\u001b[39m\n\u001b[0;32m      2\u001b[0m \u001b[38;5;28;01mif\u001b[39;00m val \u001b[38;5;241m==\u001b[39m \u001b[38;5;241m0.0\u001b[39m:\n\u001b[1;32m----> 3\u001b[0m     \u001b[38;5;28;01mraise\u001b[39;00m \u001b[38;5;167;01mZeroDivisionError\u001b[39;00m(\u001b[38;5;124m\"\u001b[39m\u001b[38;5;124mDivision by zero is not allowed\u001b[39m\u001b[38;5;124m\"\u001b[39m)\n\u001b[0;32m      4\u001b[0m inv \u001b[38;5;241m=\u001b[39m \u001b[38;5;241m1.0\u001b[39m \u001b[38;5;241m/\u001b[39m val\n\u001b[0;32m      5\u001b[0m inv\n",
      "\u001b[1;31mZeroDivisionError\u001b[0m: Division by zero is not allowed"
     ]
    }
   ],
   "source": [
    "val = 0.0\n",
    "if val == 0.0:\n",
    "    raise ZeroDivisionError(\"Division by zero is not allowed\")\n",
    "inv = 1.0 / val\n",
    "inv"
   ]
  },
  {
   "cell_type": "markdown",
   "id": "97c7bbb1",
   "metadata": {},
   "source": [
    "## Loops"
   ]
  },
  {
   "cell_type": "code",
   "execution_count": 18,
   "id": "83e0dcdc",
   "metadata": {},
   "outputs": [
    {
     "name": "stdout",
     "output_type": "stream",
     "text": [
      "t-minus 3\n",
      "t-minus 2\n",
      "t-minus 1\n",
      "blastoff!\n"
     ]
    }
   ],
   "source": [
    "# While Loop\n",
    "# Countdown example\n",
    "t = 3\n",
    "while 0 < t:\n",
    "    print(\"t-minus \" + str(t))\n",
    "    t = t - 1\n",
    "print(\"blastoff!\")\n"
   ]
  },
  {
   "cell_type": "code",
   "execution_count": 19,
   "id": "f9be4690",
   "metadata": {},
   "outputs": [
    {
     "name": "stdout",
     "output_type": "stream",
     "text": [
      "I can't print that for you.\n"
     ]
    }
   ],
   "source": [
    "# Infinite Loop Example\n",
    "while False:\n",
    "    print(\"I am sorry, Dave.\")\n",
    "print(\"I can't print that for you.\")\n"
   ]
  },
  {
   "cell_type": "code",
   "execution_count": 21,
   "id": "900b30f0",
   "metadata": {},
   "outputs": [
    {
     "data": {
      "text/plain": [
       "[1, 1, 2, 3, 5, 8, 13, 21, 34, 55, 89]"
      ]
     },
     "execution_count": 21,
     "metadata": {},
     "output_type": "execute_result"
    }
   ],
   "source": [
    "# Fibonacci Sequence Example\n",
    "# Generate Fibonacci numbers until one is divisible by 12\n",
    "fib = [1, 1]\n",
    "while True:\n",
    "    x = fib[-2] + fib[-1]\n",
    "    if x%12 == 0:\n",
    "        break\n",
    "    fib.append(x)\n",
    "fib"
   ]
  },
  {
   "cell_type": "code",
   "execution_count": 22,
   "id": "dd3688d9",
   "metadata": {},
   "outputs": [
    {
     "name": "stdout",
     "output_type": "stream",
     "text": [
      "t-minus 3\n",
      "t-minus 2\n",
      "t-minus 1\n",
      "blastoff!\n"
     ]
    }
   ],
   "source": [
    "# Countdown with For Loop\n",
    "# Using a for loop to count down\n",
    "for t in [3, 2, 1]:\n",
    "    print(\"t-minus \" + str(t))\n",
    "print(\"blastoff!\")"
   ]
  },
  {
   "cell_type": "code",
   "execution_count": 23,
   "id": "98eb11ba",
   "metadata": {},
   "outputs": [
    {
     "name": "stdout",
     "output_type": "stream",
     "text": [
      "t-minus 7\n",
      "t-minus 5\n",
      "t-minus 3\n",
      "t-minus 1\n",
      "blastoff!\n"
     ]
    }
   ],
   "source": [
    "# Countdown with For Loop and Continue\n",
    "# Using a for loop with continue to skip even numbers \n",
    "for t in [7, 6, 5, 4, 3, 2, 1]:\n",
    "    if t%2 == 0:\n",
    "        continue\n",
    "    print(\"t-minus \" + str(t))\n",
    "print(\"blastoff!\")\n"
   ]
  },
  {
   "cell_type": "code",
   "execution_count": 24,
   "id": "31655b0c",
   "metadata": {},
   "outputs": [
    {
     "name": "stdout",
     "output_type": "stream",
     "text": [
      "G\n",
      "o\n",
      "r\n",
      "g\n",
      "u\n",
      "s\n"
     ]
    }
   ],
   "source": [
    "# For Loop with Else Clause\n",
    "# Using a for loop with an else clause\n",
    "for letter in \"Gorgus\":\n",
    "    print(letter)"
   ]
  },
  {
   "cell_type": "code",
   "execution_count": 26,
   "id": "d0f9e927",
   "metadata": {},
   "outputs": [
    {
     "name": "stdout",
     "output_type": "stream",
     "text": [
      "Gorgus\n",
      "0\n",
      "True\n"
     ]
    }
   ],
   "source": [
    "# For Loop with Set\n",
    "# Using a for loop to iterate over a set    \n",
    "# Output will be in arbitrary order\n",
    "for x in {\"Gorgus\", 0, True}:\n",
    "    print(x)\n"
   ]
  },
  {
   "cell_type": "code",
   "execution_count": 27,
   "id": "43075b8d",
   "metadata": {},
   "outputs": [
    {
     "name": "stdout",
     "output_type": "stream",
     "text": [
      "first\n",
      "Albert\n",
      "======\n",
      "last\n",
      "Einstein\n",
      "======\n",
      "birthday\n",
      "[1879, 3, 14]\n",
      "======\n"
     ]
    }
   ],
   "source": [
    "# For Loop with Dictionary\n",
    "# Using a for loop to iterate over a dictionary\n",
    "# Output will be the keys and their corresponding values\n",
    "# Note: The order of keys in a dictionary is not guaranteed\n",
    "d = {\"first\": \"Albert\",\n",
    "     \"last\": \"Einstein\",\n",
    "     \"birthday\": [1879, 3, 14]}\n",
    "\n",
    "for key in d:\n",
    "    print(key)\n",
    "    print(d[key])\n",
    "    print(\"======\")\n"
   ]
  },
  {
   "cell_type": "code",
   "execution_count": 28,
   "id": "6582e5e1",
   "metadata": {},
   "outputs": [
    {
     "name": "stdout",
     "output_type": "stream",
     "text": [
      "Keys:\n",
      "first\n",
      "last\n",
      "birthday\n",
      "\n",
      "======\n",
      "\n",
      "Values:\n",
      "Albert\n",
      "Einstein\n",
      "[1879, 3, 14]\n",
      "\n",
      "======\n",
      "\n",
      "Items:\n",
      "first Albert\n",
      "last Einstein\n",
      "birthday [1879, 3, 14]\n"
     ]
    }
   ],
   "source": [
    "d = {\"first\": \"Albert\",\n",
    "     \"last\": \"Einstein\",\n",
    "     \"birthday\": [1879, 3, 14]}\n",
    "\n",
    "print(\"Keys:\")\n",
    "for key in d.keys():\n",
    "    print(key)\n",
    "\n",
    "print(\"\\n======\\n\")\n",
    "\n",
    "print(\"Values:\")\n",
    "for value in d.values():\n",
    "    print(value)\n",
    "\n",
    "print(\"\\n======\\n\")\n",
    "\n",
    "print(\"Items:\")\n",
    "for key, value in d.items():\n",
    "    print(key, value)\n"
   ]
  },
  {
   "cell_type": "code",
   "execution_count": 31,
   "id": "fe41b909",
   "metadata": {},
   "outputs": [
    {
     "name": "stdout",
     "output_type": "stream",
     "text": [
      "('first', 'Albert')\n",
      "('last', 'Einstein')\n",
      "('birthday', [1879, 3, 14])\n"
     ]
    }
   ],
   "source": [
    "# For Loop with Items\n",
    "# using item we get both key and value in a single iteration as a tuple\n",
    "for item in d.items():\n",
    "    print(item)"
   ]
  },
  {
   "cell_type": "code",
   "execution_count": 32,
   "id": "d55539d6",
   "metadata": {},
   "outputs": [
    {
     "name": "stdout",
     "output_type": "stream",
     "text": [
      "strange\n",
      "top\n",
      "down\n",
      "charm\n",
      "up\n",
      "bottom\n"
     ]
    }
   ],
   "source": [
    "quarks = {'up', 'down', 'top', 'bottom', 'charm', 'strange'}\n",
    "for quark in quarks:\n",
    "    print(quark)\n"
   ]
  },
  {
   "cell_type": "markdown",
   "id": "b69b11e9",
   "metadata": {},
   "source": [
    "# Comprehensions"
   ]
  },
  {
   "cell_type": "code",
   "execution_count": 37,
   "id": "e660d24b",
   "metadata": {},
   "outputs": [],
   "source": [
    "# List comprehension\n",
    "# [<expr> for <loop-var> in <iterable>]\n",
    "\n",
    "# Set comprehension\n",
    "# {<expr> for <loop-var> in <iterable>}\n",
    "\n",
    "# Dictionary comprehension\n",
    "# {<key-expr>: <value-expr> for <loop-var> in <iterable>}"
   ]
  },
  {
   "cell_type": "code",
   "execution_count": 34,
   "id": "a1f7e44f",
   "metadata": {},
   "outputs": [
    {
     "data": {
      "text/plain": [
       "['STRANGE', 'TOP', 'DOWN', 'CHARM', 'UP', 'BOTTOM']"
      ]
     },
     "execution_count": 34,
     "metadata": {},
     "output_type": "execute_result"
    }
   ],
   "source": [
    "upper_quarks = []\n",
    "for quark in quarks:\n",
    "    upper_quarks.append(quark.upper())\n",
    "\n",
    "upper_quarks"
   ]
  },
  {
   "cell_type": "code",
   "execution_count": 35,
   "id": "c90dde0b",
   "metadata": {},
   "outputs": [
    {
     "data": {
      "text/plain": [
       "['STRANGE', 'TOP', 'DOWN', 'CHARM', 'UP', 'BOTTOM']"
      ]
     },
     "execution_count": 35,
     "metadata": {},
     "output_type": "execute_result"
    }
   ],
   "source": [
    "upper_quarks = [quark.upper() for quark in quarks]\n",
    "upper_quarks"
   ]
  },
  {
   "cell_type": "code",
   "execution_count": 40,
   "id": "0e7a12b9",
   "metadata": {},
   "outputs": [
    {
     "data": {
      "text/plain": [
       "{'charm', 'strange', 'top'}"
      ]
     },
     "execution_count": 40,
     "metadata": {},
     "output_type": "execute_result"
    }
   ],
   "source": [
    "# Set comprehension to create a set of quarks in lowercase\n",
    "# This will remove duplicates and ensure all entries are lowercase\n",
    "entries = ['top', 'CHARm', 'Top', 'sTraNGe', 'strangE', 'top']\n",
    "quarks = {quark.lower() for quark in entries}\n",
    "quarks"
   ]
  },
  {
   "cell_type": "code",
   "execution_count": 42,
   "id": "aac9ddd1",
   "metadata": {},
   "outputs": [
    {
     "data": {
      "text/plain": [
       "{1: 43, 10: 142, 12.5: 198.25, 65: 4267, 88: 7786}"
      ]
     },
     "execution_count": 42,
     "metadata": {},
     "output_type": "execute_result"
    }
   ],
   "source": [
    "# Dictionary comprehension to create a dictionary with squares of numbers\n",
    "# This will create a mapping of each number to its square plus 42\n",
    "entries = [1, 10, 12.5, 65, 88]\n",
    "results = {x: x**2 + 42 for x in entries}\n",
    "results"
   ]
  },
  {
   "cell_type": "code",
   "execution_count": null,
   "id": "d04d4a30",
   "metadata": {},
   "outputs": [],
   "source": [
    "# List comprehension with filter\n",
    "# [<expr> for <loop-var> in <iterable> if <condition>]\n",
    "\n",
    "# Set comprehension with filter\n",
    "# {<expr> for <loop-var> in <iterable> if <condition>}\n",
    "\n",
    "# Dictionary comprehension with filter\n",
    "# {<key-expr>: <value-expr> for <loop-var> in <iterable> if <condition>}\n"
   ]
  },
  {
   "cell_type": "code",
   "execution_count": 44,
   "id": "0c830429",
   "metadata": {},
   "outputs": [
    {
     "data": {
      "text/plain": [
       "{25, 3025}"
      ]
     },
     "execution_count": 44,
     "metadata": {},
     "output_type": "execute_result"
    }
   ],
   "source": [
    "# List comprehension with filter to create a set of squares of Fibonacci numbers\n",
    "{x**2 for x in fib if x%5 == 0}\n"
   ]
  },
  {
   "cell_type": "code",
   "execution_count": 45,
   "id": "f7a7890f",
   "metadata": {},
   "outputs": [
    {
     "data": {
      "text/plain": [
       "{'r': 1, 'theta': 2, 'phi': 3}"
      ]
     },
     "execution_count": 45,
     "metadata": {},
     "output_type": "execute_result"
    }
   ],
   "source": [
    "coords = {'x': 1, 'y': 2, 'z': 3, 'r': 1, 'theta': 2, 'phi': 3}\n",
    "polar_keys = {'r', 'theta', 'phi'}\n",
    "polar = {key: value for key, value in coords.items() if key in polar_keys}\n",
    "polar"
   ]
  },
  {
   "cell_type": "code",
   "execution_count": null,
   "id": "0c5d9d08",
   "metadata": {},
   "outputs": [],
   "source": []
  },
  {
   "cell_type": "code",
   "execution_count": null,
   "id": "5fe6ee45",
   "metadata": {},
   "outputs": [],
   "source": []
  },
  {
   "cell_type": "code",
   "execution_count": null,
   "id": "82ce9639",
   "metadata": {},
   "outputs": [],
   "source": []
  },
  {
   "cell_type": "code",
   "execution_count": null,
   "id": "cf58a8a8",
   "metadata": {},
   "outputs": [],
   "source": []
  },
  {
   "cell_type": "code",
   "execution_count": null,
   "id": "caa7e38e",
   "metadata": {},
   "outputs": [],
   "source": []
  },
  {
   "cell_type": "code",
   "execution_count": null,
   "id": "8d4b68a1",
   "metadata": {},
   "outputs": [],
   "source": []
  }
 ],
 "metadata": {
  "kernelspec": {
   "display_name": "Python 3",
   "language": "python",
   "name": "python3"
  },
  "language_info": {
   "codemirror_mode": {
    "name": "ipython",
    "version": 3
   },
   "file_extension": ".py",
   "mimetype": "text/x-python",
   "name": "python",
   "nbconvert_exporter": "python",
   "pygments_lexer": "ipython3",
   "version": "3.11.9"
  }
 },
 "nbformat": 4,
 "nbformat_minor": 5
}
